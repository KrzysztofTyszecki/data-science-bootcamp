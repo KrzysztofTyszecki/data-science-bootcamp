{
  "nbformat": 4,
  "nbformat_minor": 0,
  "metadata": {
    "colab": {
      "provenance": [],
      "authorship_tag": "ABX9TyNJusMGegvY5X/xPeqNzeFQ",
      "include_colab_link": true
    },
    "kernelspec": {
      "name": "python3",
      "display_name": "Python 3"
    },
    "language_info": {
      "name": "python"
    }
  },
  "cells": [
    {
      "cell_type": "markdown",
      "metadata": {
        "id": "view-in-github",
        "colab_type": "text"
      },
      "source": [
        "<a href=\"https://colab.research.google.com/github/KrzysztofTyszecki/data-science-bootcamp/blob/main/SciPy-podstawy_statystyki.ipynb\" target=\"_parent\"><img src=\"https://colab.research.google.com/assets/colab-badge.svg\" alt=\"Open In Colab\"/></a>"
      ]
    },
    {
      "cell_type": "markdown",
      "source": [
        "Dane dyskretne - posiadające ustalone wartości np: Oceny studentow\n",
        "mean() - śr. arytmetyczna\n",
        "median() - mediana\n",
        "Moda (wartość modalna) to najczęściej występująca wartość w ciągu.\n",
        "---\n",
        "\n"
      ],
      "metadata": {
        "id": "dVjNUl3YDC7j"
      }
    },
    {
      "cell_type": "code",
      "source": [
        "import numpy as np\n",
        "\n",
        "X = np.array([3, 4.5, 5, 4.5, 3])\n",
        "print(X)\n",
        "X.mean()"
      ],
      "metadata": {
        "colab": {
          "base_uri": "https://localhost:8080/"
        },
        "id": "UnpMPq0bDHtR",
        "outputId": "f062c663-c4b0-4ea8-d002-c45a515a935c"
      },
      "execution_count": 1,
      "outputs": [
        {
          "output_type": "stream",
          "name": "stdout",
          "text": [
            "[3.  4.5 5.  4.5 3. ]\n"
          ]
        },
        {
          "output_type": "execute_result",
          "data": {
            "text/plain": [
              "np.float64(4.0)"
            ]
          },
          "metadata": {},
          "execution_count": 1
        }
      ]
    },
    {
      "cell_type": "markdown",
      "source": [
        "\n",
        "Dane ciągłe - posiadające różne dowolne wartości np: Wzrost studentów\n"
      ],
      "metadata": {
        "id": "NyVw8E8mELM0"
      }
    },
    {
      "cell_type": "code",
      "source": [
        "X = np.array([185.0, 179.5, 168.0, 192.0, 185.5])\n",
        "print(X)"
      ],
      "metadata": {
        "colab": {
          "base_uri": "https://localhost:8080/"
        },
        "id": "qc862H_XDf3d",
        "outputId": "ee4beabe-84ad-4762-b9b6-0e5a673a573c"
      },
      "execution_count": 2,
      "outputs": [
        {
          "output_type": "stream",
          "name": "stdout",
          "text": [
            "[185.  179.5 168.  192.  185.5]\n"
          ]
        }
      ]
    },
    {
      "cell_type": "markdown",
      "source": [
        "Miary rozrzutu\n"
      ],
      "metadata": {
        "id": "lJpSvV0UGL2E"
      }
    },
    {
      "cell_type": "markdown",
      "source": [
        "Średni błąd - śr. odległość od średniej. Im mniejszy tym ciąg jest mniej rozrzucony"
      ],
      "metadata": {
        "id": "-99O3t09G42F"
      }
    },
    {
      "cell_type": "code",
      "source": [
        "X = [3.5, 4.0, 4.0]\n",
        "Y = [2.0, 4.0, 5.0]\n",
        "\n",
        "X_mean = np.mean(X)\n",
        "Y_mean = np.mean(Y)\n",
        "\n",
        "print(\"X_mean:\", X_mean)\n",
        "print(\"Y_mean:\", Y_mean)"
      ],
      "metadata": {
        "colab": {
          "base_uri": "https://localhost:8080/"
        },
        "id": "4nNJp4FvEJnA",
        "outputId": "23a05ed6-81d8-44ee-d2ba-2532acad7fa1"
      },
      "execution_count": 3,
      "outputs": [
        {
          "output_type": "stream",
          "name": "stdout",
          "text": [
            "X_mean: 3.8333333333333335\n",
            "Y_mean: 3.6666666666666665\n"
          ]
        }
      ]
    },
    {
      "cell_type": "code",
      "source": [
        "b_X = 1 / len(X) * (abs(X - X_mean).sum())\n",
        "b_Y = 1 / len(Y) * (abs(Y - Y_mean).sum())\n",
        "\n",
        "print(\"Średni błąd X\", b_X)\n",
        "print(\"Średni błąd Y\", b_Y)"
      ],
      "metadata": {
        "colab": {
          "base_uri": "https://localhost:8080/"
        },
        "id": "47FgGD_OHnco",
        "outputId": "2635a15b-67e5-4374-e47c-c32ea3ab9e5f"
      },
      "execution_count": 4,
      "outputs": [
        {
          "output_type": "stream",
          "name": "stdout",
          "text": [
            "Średni błąd X 0.22222222222222215\n",
            "Średni błąd Y 1.1111111111111112\n"
          ]
        }
      ]
    },
    {
      "cell_type": "markdown",
      "source": [
        "Warjancja, odchylenie standardowe (pierwiastek z wariancji). Im większe odchylenie od średniej tym mniejszy wpływ."
      ],
      "metadata": {
        "id": "NGuevRWbYNza"
      }
    },
    {
      "cell_type": "code",
      "source": [
        "#ze wzoru:\n",
        "var_X = 1 / len(X) * ((X - X_mean)**2).sum()\n",
        "var_Y = 1 / len(Y) * ((Y - Y_mean)**2).sum()\n",
        "\n",
        "print(f'Wariancja zmiennej X: {var_X:.4f}')\n",
        "print(f'Wariancja zmiennej Y: {var_Y:.4f}\\n')\n",
        "\n",
        "std_X = np.sqrt(var_X)\n",
        "std_Y = np.sqrt(var_Y)\n",
        "\n",
        "print(f'Odchylenie standardowe zmiennej X: {std_X:.4f}')\n",
        "print(f'Odchylenie standardowe zmiennej Y: {std_Y:.4f}')"
      ],
      "metadata": {
        "colab": {
          "base_uri": "https://localhost:8080/"
        },
        "id": "NOXVQ86dINWK",
        "outputId": "382bcde9-da72-4393-f37d-94e35a2a0f81"
      },
      "execution_count": 5,
      "outputs": [
        {
          "output_type": "stream",
          "name": "stdout",
          "text": [
            "Wariancja zmiennej X: 0.0556\n",
            "Wariancja zmiennej Y: 1.5556\n",
            "\n",
            "Odchylenie standardowe zmiennej X: 0.2357\n",
            "Odchylenie standardowe zmiennej Y: 1.2472\n"
          ]
        }
      ]
    },
    {
      "cell_type": "code",
      "source": [
        "# używając numpy\n",
        "print(np.std(X))\n",
        "print(np.std(Y))"
      ],
      "metadata": {
        "colab": {
          "base_uri": "https://localhost:8080/"
        },
        "id": "P1B0caTrY9ww",
        "outputId": "d324c78d-0dd3-47ad-cd5f-67ea24304f42"
      },
      "execution_count": 6,
      "outputs": [
        {
          "output_type": "stream",
          "name": "stdout",
          "text": [
            "0.23570226039551584\n",
            "1.247219128924647\n"
          ]
        }
      ]
    },
    {
      "cell_type": "markdown",
      "source": [
        "Dystry**buanta empiryczna**- funkcja schodkowa, która szacuje dystrybuantę prawdziwego rozkładu zmiennej losowej na podstawie danych z próbki.\n",
        "- Służy do oszacowania i wizualizacji rozkładu cechy, gdy prawdziwy rozkład jest nieznany.\n",
        "- Można ją wykorzystać do porównywania rozkładów z różnych grup, rysując ich dystrybuanty na jednym wykresie"
      ],
      "metadata": {
        "id": "ckDPhDTIZ5rb"
      }
    },
    {
      "cell_type": "markdown",
      "source": [
        "**Przestrzeń probabilistyczna**\n",
        "Przestrzeń zdarzeń elementarnych Omega: Zbiór wszystkich możliwych, wzajemnie wykluczających się wyników danego eksperymentu.\n",
        "- Przykład: Przy rzucie kostką, Omega to {1, 2, 3, 4, 5, 6}.\n",
        "\n",
        "σ-ciało zdarzeń: Rodzina wszystkich podzbiorów zbioru Omega, które odpowiadają zdarzeniom, których prawdopodobieństwo możemy określić.\n",
        "- Przykład: W rzucie kostką,  zawiera m.in. zdarzenie \"wypadła parzysta liczba\" ({2, 4, 6}) oraz zdarzenie \"wypadła liczba większa od 4\" ({5, 6}).\n",
        "\n",
        "Miara prawdopodobieństwa P: Funkcja przypisująca zdarzeniu z liczbę z przedziału [0] (czyli prawdopodobieństwo), która spełnia określone aksjomaty.\n",
        "- Przykład: W rzucie symetryczną kostką, prawdopodobieństwo każdego pojedynczego wyniku jest takie samo i wynosi 1/6. Prawdopodobieństwo wypadnięcia parzystej liczby to suma prawdopodobieństw wyników {2, 4, 6}, czyli 1/6+1/6+1/6 = 3/6 = 1/2"
      ],
      "metadata": {
        "id": "rwDakaRobLXt"
      }
    },
    {
      "cell_type": "markdown",
      "source": [
        "**Przestrzeń klasyczna** odnosi się do zbioru wszystkich możliwych wyników w danym doświadczeniu losowym, czyli przestrzeni zdarzeń elementarnych. Jest to koncepcja kluczowa w rachunku prawdopodobieństwa, gdzie oblicza się prawdopodobieństwo zdarzenia jako stosunek liczby sprzyjających mu wyników do liczby wszystkich możliwych wyników, czyli elementów przestrzeni klasycznej.\n",
        "- Definicja: Przestrzeń klasyczna Omega, inaczej zwana przestrzenią zdarzeń elementarnych, to zbiór wszystkich pojedynczych, niemożliwych do dalszego podziału wyników danego doświadczenia losowego.\n",
        "- Przykład: W rzucie symetryczną kostką do gry, przestrzenią klasyczną jest zbiór \\(\\{1,2,3,4,5,6\\}\\). Liczba wszystkich możliwych wyników, czyli moc przestrzeni klasycznej, wynosi \\(6\\).\n",
        "- Zastosowanie: Gdy oblicza się prawdopodobieństwo, dzieli się liczbę wyników sprzyjających danemu zdarzeniu przez liczbę wszystkich wyników w przestrzeni klasycznej."
      ],
      "metadata": {
        "id": "eV_k2qf0cjPw"
      }
    },
    {
      "cell_type": "code",
      "source": [
        "omega = {1, 2, 3, 4, 5, 6}\n",
        "A = {item for item in omega if item % 2 == 0}\n",
        "\n",
        "P_A = len(A) / len(omega)\n",
        "print(f'Zbiór A: {A}')\n",
        "print(f'Prawdopodobieństwo zdarzenia A: {P_A}')"
      ],
      "metadata": {
        "colab": {
          "base_uri": "https://localhost:8080/"
        },
        "id": "OsqZ1x2XZQ5s",
        "outputId": "ce10defa-93ea-41ba-d622-45e16713d99e"
      },
      "execution_count": 7,
      "outputs": [
        {
          "output_type": "stream",
          "name": "stdout",
          "text": [
            "Zbiór A: {2, 4, 6}\n",
            "Prawdopodobieństwo zdarzenia A: 0.5\n"
          ]
        }
      ]
    },
    {
      "cell_type": "code",
      "source": [
        "omega = {1, 2, 3, 4, 5, 6}\n",
        "B = {item for item in omega if item > 4}\n",
        "\n",
        "P_B = len(B) / len(omega)\n",
        "print(f'Zbiór B: {B}')\n",
        "print(f'Prawdopodobieństwo zdarzenia B: {P_B:.4f}')"
      ],
      "metadata": {
        "colab": {
          "base_uri": "https://localhost:8080/"
        },
        "id": "4gJNhGVodp9P",
        "outputId": "df97b1e0-b484-4b13-d0a0-a79781d6c94e"
      },
      "execution_count": 8,
      "outputs": [
        {
          "output_type": "stream",
          "name": "stdout",
          "text": [
            "Zbiór B: {5, 6}\n",
            "Prawdopodobieństwo zdarzenia B: 0.3333\n"
          ]
        }
      ]
    },
    {
      "cell_type": "code",
      "source": [
        "#**NIEZALEZNOSC ZDARZEŃ**\n",
        "intersection_AB = set.intersection(A, B)\n",
        "P_intersection_AB = len(intersection_AB) / len(omega)\n",
        "\n",
        "PA_PB = P_A * P_B\n",
        "\n",
        "print(f'Przecięcie zbiorów A i B: {intersection_AB}\\n')\n",
        "print(f'Iloczyn prawdopodobieństw zdarzeń A i B: {PA_PB:.4f}')\n",
        "print(f'Prawdopodobieństwo iloczynu zdarzeń A i B: {P_intersection_AB:.4f}\\n')\n",
        "\n",
        "check = 'Zdarzenia niezależne' if PA_PB == P_intersection_AB else 'Zdarzenia zależne'\n",
        "print(check)"
      ],
      "metadata": {
        "colab": {
          "base_uri": "https://localhost:8080/"
        },
        "id": "AV5V2hFKdtZT",
        "outputId": "5d70aa6c-102b-43e9-e121-e7171ffc9b36"
      },
      "execution_count": 9,
      "outputs": [
        {
          "output_type": "stream",
          "name": "stdout",
          "text": [
            "Przecięcie zbiorów A i B: {6}\n",
            "\n",
            "Iloczyn prawdopodobieństw zdarzeń A i B: 0.1667\n",
            "Prawdopodobieństwo iloczynu zdarzeń A i B: 0.1667\n",
            "\n",
            "Zdarzenia niezależne\n"
          ]
        }
      ]
    },
    {
      "cell_type": "code",
      "source": [
        "#Rozważmy zdarzenie  C - wyrzucenie liczby oczek większą niż 1\n",
        "C = {item for item in omega if item > 1}\n",
        "\n",
        "P_C = len(C) / len(omega)\n",
        "print(f'Zbiór C: {C}')\n",
        "print(f'Prawdopodobieństwo zdarzenia C: {P_C:.4f}')\n",
        "\n",
        "intersection_AC = set.intersection(A, C)\n",
        "P_intersection_AC = len(intersection_AC) / len(omega)\n",
        "\n",
        "PA_PC = P_A * P_C\n",
        "\n",
        "print(f'Przecięcie zbiorów A i C: {intersection_AC}\\n')\n",
        "print(f'Iloczyn prawdopodobieństw zdarzeń A i C: {PA_PC:.4f}')\n",
        "print(f'Prawdopodobieństwo iloczynu zdarzeń A i C: {P_intersection_AC:.4f}\\n')\n",
        "\n",
        "check = 'Zdarzenia niezależne' if PA_PC == P_intersection_AC else 'Zdarzenia zależne'\n",
        "print(check)\n"
      ],
      "metadata": {
        "colab": {
          "base_uri": "https://localhost:8080/"
        },
        "id": "HQdpPTS4j0DJ",
        "outputId": "04cbd245-1afd-42f5-df98-b414160c33fc"
      },
      "execution_count": 10,
      "outputs": [
        {
          "output_type": "stream",
          "name": "stdout",
          "text": [
            "Zbiór C: {2, 3, 4, 5, 6}\n",
            "Prawdopodobieństwo zdarzenia C: 0.8333\n",
            "Przecięcie zbiorów A i C: {2, 4, 6}\n",
            "\n",
            "Iloczyn prawdopodobieństw zdarzeń A i C: 0.4167\n",
            "Prawdopodobieństwo iloczynu zdarzeń A i C: 0.5000\n",
            "\n",
            "Zdarzenia zależne\n"
          ]
        }
      ]
    },
    {
      "cell_type": "code",
      "source": [
        "# Prawdopodobieństwo warunkowe\n",
        "print(f'A: {A}')\n",
        "print(f'B: {B}')\n",
        "print(f'Przecięcie A i B: {intersection_AB}')"
      ],
      "metadata": {
        "colab": {
          "base_uri": "https://localhost:8080/"
        },
        "id": "ewIV5yRWkAPv",
        "outputId": "213f5217-736c-4f75-cdbe-9064feb0c1bb"
      },
      "execution_count": 11,
      "outputs": [
        {
          "output_type": "stream",
          "name": "stdout",
          "text": [
            "A: {2, 4, 6}\n",
            "B: {5, 6}\n",
            "Przecięcie A i B: {6}\n"
          ]
        }
      ]
    },
    {
      "cell_type": "code",
      "source": [
        "PA_cond_B = P_intersection_AB / P_B\n",
        "\n",
        "print(f'Prawdopodobieństwo wylosowania liczby parzystej pod warunkiem, że wylosowaliśmy liczbę większą niż 4 wynosi: {PA_cond_B}')"
      ],
      "metadata": {
        "colab": {
          "base_uri": "https://localhost:8080/"
        },
        "id": "100Thkx4kQFx",
        "outputId": "1f1c8bb4-ec54-4a67-f8b0-664c3bcc21e7"
      },
      "execution_count": 12,
      "outputs": [
        {
          "output_type": "stream",
          "name": "stdout",
          "text": [
            "Prawdopodobieństwo wylosowania liczby parzystej pod warunkiem, że wylosowaliśmy liczbę większą niż 4 wynosi: 0.5\n"
          ]
        }
      ]
    },
    {
      "cell_type": "markdown",
      "source": [
        "**ZMIENNA LOSOWA**"
      ],
      "metadata": {
        "id": "CatkC3zLkgG9"
      }
    },
    {
      "cell_type": "code",
      "source": [
        "EX = 0 * 0.5 + 1 * 0.3 + 2 * 0.15 + 3 * 0.05\n",
        "EX"
      ],
      "metadata": {
        "colab": {
          "base_uri": "https://localhost:8080/"
        },
        "id": "3ZOCkP4ikUNX",
        "outputId": "f3a5af41-28e5-41e8-8d43-de5068772937"
      },
      "execution_count": 13,
      "outputs": [
        {
          "output_type": "execute_result",
          "data": {
            "text/plain": [
              "0.75"
            ]
          },
          "metadata": {},
          "execution_count": 13
        }
      ]
    },
    {
      "cell_type": "code",
      "source": [
        "VAR_X = (0 - EX)**2 * 0.5 + (1 - EX)**2 * 0.3 + (2 - EX)**2 * 0.15 +(3 - EX)**2 * 0.05\n",
        "VAR_X"
      ],
      "metadata": {
        "colab": {
          "base_uri": "https://localhost:8080/"
        },
        "id": "sDR4VkLskfLs",
        "outputId": "7a9e45eb-1a14-48c9-9951-67052b123fbb"
      },
      "execution_count": 14,
      "outputs": [
        {
          "output_type": "execute_result",
          "data": {
            "text/plain": [
              "0.7875000000000001"
            ]
          },
          "metadata": {},
          "execution_count": 14
        }
      ]
    },
    {
      "cell_type": "code",
      "source": [
        "import numpy as np\n",
        "\n",
        "STD_X = np.sqrt(VAR_X)\n",
        "STD_X"
      ],
      "metadata": {
        "colab": {
          "base_uri": "https://localhost:8080/"
        },
        "id": "I5I6c7XlkkyT",
        "outputId": "302d23ba-36ba-42d4-cda9-662fb99c0f68"
      },
      "execution_count": 15,
      "outputs": [
        {
          "output_type": "execute_result",
          "data": {
            "text/plain": [
              "np.float64(0.8874119674649424)"
            ]
          },
          "metadata": {},
          "execution_count": 15
        }
      ]
    },
    {
      "cell_type": "code",
      "source": [
        "x = np.random.randn(5)\n",
        "y = np.random.randn(5)\n",
        "\n",
        "print(x, '\\n')\n",
        "print(y)"
      ],
      "metadata": {
        "colab": {
          "base_uri": "https://localhost:8080/"
        },
        "id": "Gd7AwiQ8kn9N",
        "outputId": "608357d0-af1a-4797-d8d2-98c72b936af0"
      },
      "execution_count": 16,
      "outputs": [
        {
          "output_type": "stream",
          "name": "stdout",
          "text": [
            "[-0.47011247  2.34198157 -0.87689113 -1.18816011  0.01835257] \n",
            "\n",
            "[ 0.10083597 -0.30106979  0.35196027 -0.64099654 -0.28524587]\n"
          ]
        }
      ]
    },
    {
      "cell_type": "code",
      "source": [
        "x.mean()"
      ],
      "metadata": {
        "colab": {
          "base_uri": "https://localhost:8080/"
        },
        "id": "fwXTiy73krK0",
        "outputId": "d3d20134-b0ce-4217-c2d8-2365b174c0d4"
      },
      "execution_count": 17,
      "outputs": [
        {
          "output_type": "execute_result",
          "data": {
            "text/plain": [
              "np.float64(-0.03496591153900187)"
            ]
          },
          "metadata": {},
          "execution_count": 17
        }
      ]
    },
    {
      "cell_type": "markdown",
      "source": [
        "Rozkład normalny"
      ],
      "metadata": {
        "id": "S87imHh9t0Vg"
      }
    },
    {
      "cell_type": "markdown",
      "source": [],
      "metadata": {
        "id": "JRrVeipQt0P3"
      }
    },
    {
      "cell_type": "markdown",
      "source": [],
      "metadata": {
        "id": "kke8TcQ2t0MF"
      }
    },
    {
      "cell_type": "code",
      "source": [
        "import matplotlib.pyplot as plt\n",
        "import seaborn as sns\n",
        "from scipy.stats import norm\n",
        "sns.set()\n",
        "\n",
        "mu = 0 # średnia\n",
        "sigma = 1 # odchylenie standardowe\n",
        "x = np.linspace(mu - 3 * sigma, mu + 3 * sigma, 100)\n",
        "plt.title('Rozkład normalny - funkcja gęstości')\n",
        "_ = plt.plot(x, norm.pdf(x, mu, sigma))"
      ],
      "metadata": {
        "colab": {
          "base_uri": "https://localhost:8080/",
          "height": 457
        },
        "id": "bS3eyJMbktDw",
        "outputId": "974ee64b-2539-4416-ba2c-6d8403620225"
      },
      "execution_count": 18,
      "outputs": [
        {
          "output_type": "display_data",
          "data": {
            "text/plain": [
              "<Figure size 640x480 with 1 Axes>"
            ],
            "image/png": "[encoded data removed]"
          },
          "metadata": {}
        }
      ]
    },
    {
      "cell_type": "code",
      "source": [],
      "metadata": {
        "id": "4hG0eMk_t6f8"
      },
      "execution_count": null,
      "outputs": []
    }
  ]
}